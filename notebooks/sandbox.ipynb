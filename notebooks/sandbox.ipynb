{
 "cells": [
  {
   "cell_type": "code",
   "execution_count": 1,
   "id": "384cd6a2",
   "metadata": {},
   "outputs": [],
   "source": [
    "%%capture\n",
    "%load_ext autoreload\n",
    "%autoreload 2\n",
    "%load_ext dotenv\n",
    "%dotenv\n",
    "\n",
    "import os\n",
    "import logging\n",
    "import warnings\n",
    "\n",
    "warnings.filterwarnings(\"ignore\")\n",
    "os.chdir('/Users/azrrael/embedded/python-sandbox')"
   ]
  },
  {
   "cell_type": "code",
   "execution_count": 2,
   "id": "59adc70c",
   "metadata": {},
   "outputs": [],
   "source": [
    "from src.domain.entities.signal import Signal\n",
    "from src.domain.value_object.sample import Sample\n",
    "from src.domain.interfaces.source import ISource"
   ]
  },
  {
   "cell_type": "code",
   "execution_count": 3,
   "id": "77926496",
   "metadata": {},
   "outputs": [],
   "source": [
    "signal = Signal()"
   ]
  },
  {
   "cell_type": "code",
   "execution_count": null,
   "id": "e6c45f5b",
   "metadata": {},
   "outputs": [],
   "source": [
    "from math import sin, pi, radians\n",
    "from random import randint\n",
    "\n",
    "class SyntheticSource(ISource):\n",
    "    def __init__(self, id: str, name: str, units: str):\n",
    "        super().__init__(id, name, units)\n",
    "\n",
    "    def get_properties(self) -> dict:\n",
    "        return {}\n",
    "    \n",
    "    def read_sample(self) -> Sample:\n",
    "        angle_in_degrees = randint(0, 90)\n",
    "        return Sample(\n",
    "            source_id=self.get_id(), \n",
    "            value=sin(radians(angle_in_degrees))\n",
    "        )"
   ]
  },
  {
   "cell_type": "code",
   "execution_count": 5,
   "id": "ddb47749",
   "metadata": {},
   "outputs": [],
   "source": [
    "synt_source = SyntheticSource(id=\"synt_source_id\", name=\"synt_source_name\", units=\"volts\")\n"
   ]
  },
  {
   "cell_type": "code",
   "execution_count": 6,
   "id": "d9afa443",
   "metadata": {},
   "outputs": [
    {
     "data": {
      "text/plain": [
       "[Sample(source_id=synt_source_id, value=0.8910065241883679, timestamp=2025-08-30 11:49:07.772675),\n",
       " Sample(source_id=synt_source_id, value=0.08715574274765817, timestamp=2025-08-30 11:49:07.772742),\n",
       " Sample(source_id=synt_source_id, value=0.9975640502598242, timestamp=2025-08-30 11:49:09.775538),\n",
       " Sample(source_id=synt_source_id, value=0.9335804264972017, timestamp=2025-08-30 11:49:18.780671),\n",
       " Sample(source_id=synt_source_id, value=0.9659258262890683, timestamp=2025-08-30 11:49:26.784645),\n",
       " Sample(source_id=synt_source_id, value=0.5591929034707469, timestamp=2025-08-30 11:49:29.789477),\n",
       " Sample(source_id=synt_source_id, value=0.9510565162951535, timestamp=2025-08-30 11:49:36.794620),\n",
       " Sample(source_id=synt_source_id, value=0.052335956242943835, timestamp=2025-08-30 11:49:46.799221),\n",
       " Sample(source_id=synt_source_id, value=0.13917310096006544, timestamp=2025-08-30 11:49:55.804310),\n",
       " Sample(source_id=synt_source_id, value=0.17364817766693033, timestamp=2025-08-30 11:49:59.809431)]"
      ]
     },
     "execution_count": 6,
     "metadata": {},
     "output_type": "execute_result"
    }
   ],
   "source": [
    "from time import sleep\n",
    "\n",
    "for i in range(10):\n",
    "    signal.add_sample(synt_source.read_sample())\n",
    "    sleep(randint(0, 10))\n",
    "\n",
    "signal.get_samples()\n",
    "\n"
   ]
  },
  {
   "cell_type": "code",
   "execution_count": null,
   "id": "38216d36",
   "metadata": {},
   "outputs": [],
   "source": []
  }
 ],
 "metadata": {
  "kernelspec": {
   "display_name": ".venv",
   "language": "python",
   "name": "python3"
  },
  "language_info": {
   "codemirror_mode": {
    "name": "ipython",
    "version": 3
   },
   "file_extension": ".py",
   "mimetype": "text/x-python",
   "name": "python",
   "nbconvert_exporter": "python",
   "pygments_lexer": "ipython3",
   "version": "3.13.6"
  }
 },
 "nbformat": 4,
 "nbformat_minor": 5
}
